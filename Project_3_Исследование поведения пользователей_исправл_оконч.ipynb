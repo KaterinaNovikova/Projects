{
 "cells": [
  {
   "cell_type": "markdown",
   "metadata": {},
   "source": [
    "# PROJECT. Исследование поведения пользователей мобильной игры  Quiz Freeze.\n",
    "## ЦЕЛЬ\n",
    "Исследовать поведение пользователей в обновлённом приложении. Проверить 3 гипотезы:\n",
    "- Влияет ли обучение на скорость прохождения других этапов игры;\n",
    "- Влияет ли повторное прохождение обучения положительно на оплату;\n",
    "- Если пользователь сначала выбирает сложность вопросов, будет ли он потом проходить обучение.\n",
    "\n",
    "## ЗАДАЧИ\n",
    "В рамках проверки гипотез необходимо решить три задачи:\n",
    "- Определить, насколько обучение сокращает время прохождения этапов игры.\n",
    "- Доказать, что успешное обучение само по себе влияет на оплату и не имеет значения то, каким этапом оно шло.\n",
    "- Определить, насколько прозрачен процесс взаимодействия с игрой.\n",
    "## КОНКРЕТНЫЕ ШАГИ (ФОРМАЛИЗОВАННЫЕ ЗАДАЧИ)\n",
    "- Сравнить время прохождения различных этапов для пользователей, которые завершили обучение, и пользователей, не начинавших обучение. Если показатель отличается, выяснить, насколько.\n",
    "- Проверить, существует ли зависимость между вероятностью оплаты вопросов и количеством обучений, которые начинал или завершал пользователь. \n",
    "- Выяснить, как часто пользователи начинают обучение после выбора уровня сложности. (Это позволит оценить прозрачность процесса взаимодействия с игрой: если пользователи после выбора уровня сложности обращаются к обучению, значит, работа с приложением непонятна)\n",
    "## ОБЩИЕ СВЕДЕНИЯ\n",
    "Источниками данных являются таблицы Event и Purchase, хранящие данные о действиях пользователей в игре Quiz Freeze.\n",
    "Анализ проводится на основе данных пользователей, которые зарегистрировались в 2018 году (с 1 января по 31 декабря 2018 года включительно).\n",
    "Рассматриваемые группы пользователей: окончившие обучение и не проходившие обучение.\n",
    "\n",
    "Таблица Event\n",
    "\n",
    "Хранит данные о событиях, которые совершают пользователи:\n",
    "* id\tидентификатор события\n",
    "* user_id\tуникальный идентификатор пользователя, совершившего событие в приложении\n",
    "* start_time\tдата и время события\n",
    "* event_type\tтип события (значения: registration — регистрация; tutorial_start — начало обучения; tutorial_finish — завершение обучения; level_choice — выбор уровня сложности; pack_choice — выбор пакетов вопросов)\n",
    "* tutorial_id\tидентификатор обучения (этот идентификатор есть только у событий обучения)\n",
    "* selected_level\tвыбранный уровень сложности обучения\n",
    "\n",
    "Таблица Purchase\n",
    "\n",
    "Хранит данные об оплатах, которые совершают пользователи:\n",
    "* id\tидентификатор события\n",
    "* user_id\tуникальный идентификатор пользователя, совершившего событие в приложении\n",
    "* event_datetime\tдата и время события/покупки\n",
    "* amount\tсумма оплаты\n"
   ]
  },
  {
   "cell_type": "markdown",
   "metadata": {},
   "source": [
    "### ШАГ 1. Получаем данные и проводим их обзор и преобразование"
   ]
  },
  {
   "cell_type": "code",
   "execution_count": 1,
   "metadata": {},
   "outputs": [],
   "source": [
    "# Импортируем необходимые библиотеки\n",
    "import pandas as pd\n",
    "import numpy as np\n",
    "import datetime\n",
    "import matplotlib.pyplot as plt\n",
    "%matplotlib inline\n",
    "import plotly.graph_objs as go\n"
   ]
  },
  {
   "cell_type": "code",
   "execution_count": 37,
   "metadata": {},
   "outputs": [],
   "source": [
    "import plotly.io as pio\n",
    "pio.renderers\n",
    "pio.renderers.default = \"colab\""
   ]
  },
  {
   "cell_type": "code",
   "execution_count": 2,
   "metadata": {},
   "outputs": [],
   "source": [
    "# Загружаем csv-файлы 7_4_Events.csv и purchase.csv\n",
    "events_df = pd.read_csv('data/game/7_4_Events.csv', sep = ',')\n",
    "purchase_df = pd.read_csv('data/game/purchase.csv', sep = ',')"
   ]
  },
  {
   "cell_type": "code",
   "execution_count": 3,
   "metadata": {},
   "outputs": [
    {
     "name": "stdout",
     "output_type": "stream",
     "text": [
      "<class 'pandas.core.frame.DataFrame'>\n",
      "RangeIndex: 252334 entries, 0 to 252333\n",
      "Data columns (total 6 columns):\n",
      " #   Column          Non-Null Count   Dtype  \n",
      "---  ------          --------------   -----  \n",
      " 0   id              252334 non-null  int64  \n",
      " 1   event_type      252334 non-null  object \n",
      " 2   selected_level  31086 non-null   object \n",
      " 3   start_time      252334 non-null  object \n",
      " 4   tutorial_id     125103 non-null  float64\n",
      " 5   user_id         252334 non-null  int64  \n",
      "dtypes: float64(1), int64(2), object(3)\n",
      "memory usage: 11.6+ MB\n"
     ]
    }
   ],
   "source": [
    "# Получим общую информацию о датафрейме, для того чтобы оценить, \n",
    "# какие данные содержатся в датафрейме events_df\n",
    "events_df.info() "
   ]
  },
  {
   "cell_type": "markdown",
   "metadata": {},
   "source": [
    "Датафрейм events_df содержит 252334 строки и шесть столбцов. При этом все строки содержат значения в столбцах id, user_id, start_time, event_type, а столбцы selected_level и  tutorial_id содержат пропущенные значения.\n",
    "Столбец start_time имеет тип данных object и для дальнейшего исследования нам необходимо будет перевести его в тип данных datetime."
   ]
  },
  {
   "cell_type": "code",
   "execution_count": 4,
   "metadata": {},
   "outputs": [
    {
     "name": "stdout",
     "output_type": "stream",
     "text": [
      "<class 'pandas.core.frame.DataFrame'>\n",
      "RangeIndex: 5956 entries, 0 to 5955\n",
      "Data columns (total 4 columns):\n",
      " #   Column          Non-Null Count  Dtype \n",
      "---  ------          --------------  ----- \n",
      " 0   id              5956 non-null   int64 \n",
      " 1   user_id         5956 non-null   int64 \n",
      " 2   event_datetime  5956 non-null   object\n",
      " 3   amount          5956 non-null   int64 \n",
      "dtypes: int64(3), object(1)\n",
      "memory usage: 186.2+ KB\n"
     ]
    }
   ],
   "source": [
    "# получим общую информацию о датафрейме, для того чтобы оценить, \n",
    "# какие данные содержатся в датафрейме purchase_df\n",
    "purchase_df.info()"
   ]
  },
  {
   "cell_type": "markdown",
   "metadata": {},
   "source": [
    "Датафрейм не содержит пропусков, вся информация содержится в 4 столбцах id, user_id, event_datetime, amount. Для дальнейшего исследования нам необходимо будет перевести столбец event_datetime в тип datetime."
   ]
  },
  {
   "cell_type": "code",
   "execution_count": 5,
   "metadata": {},
   "outputs": [],
   "source": [
    "# Делаем выборку пользователей, зарегистрировавшихся 2018 году \n",
    "cond = (events_df.start_time>='2018-01-01') & (events_df.start_time<'2019-01-01') & (events_df.event_type=='registration')\n",
    "# Список пользователей, зарегистрировавшихся в 2018\n",
    "registered = events_df[cond]['user_id'].to_list()\n",
    "# Сохраняем полученный срез в переменную events\n",
    "events = events_df[events_df.user_id.isin(registered)].copy()\n",
    "# Преобразуем тип данных столбца start_time в datetime\n",
    "events.start_time = pd.to_datetime(events.start_time, format='%Y-%m-%dT%H:%M:%S') \n",
    "# Делаем выборку оплаты событий, совершенных пользователями, зарегистрировавшихся 2018 году\n",
    "purchase = purchase_df[purchase_df['user_id'].isin(registered)].copy()\n",
    "# Изменим тип столбца  event_datetime на datetime\n",
    "purchase.event_datetime = pd.to_datetime(purchase.event_datetime, format='%Y-%m-%dT%H:%M:%S')"
   ]
  },
  {
   "cell_type": "code",
   "execution_count": 6,
   "metadata": {},
   "outputs": [
    {
     "name": "stdout",
     "output_type": "stream",
     "text": [
      "       event_id    event_type selected_level          start_time  tutorial_id  \\\n",
      "51405   80308.0  registration            NaN 2018-01-01 03:48:40          NaN   \n",
      "51406   80309.0  registration            NaN 2018-01-01 04:07:25          NaN   \n",
      "51407   80310.0  registration            NaN 2018-01-01 08:35:10          NaN   \n",
      "51408   80311.0  registration            NaN 2018-01-01 11:54:47          NaN   \n",
      "51409   80312.0  registration            NaN 2018-01-01 13:28:07          NaN   \n",
      "\n",
      "       user_id  purchase_id event_datetime  amount  \n",
      "51405    27832          NaN            NaT     NaN  \n",
      "51406    27833          NaN            NaT     NaN  \n",
      "51407    27834          NaN            NaT     NaN  \n",
      "51408    27835          NaN            NaT     NaN  \n",
      "51409    27836          NaN            NaT     NaN  \n"
     ]
    }
   ],
   "source": [
    "# Перед объединением датафреймов, переименуем колонки\n",
    "events = events.rename(columns={'id':'event_id'})\n",
    "purchase = purchase.rename(columns={'id':'purchase_id'})\n",
    "# Добавим в датафрейм purchase столбец event_type, который будет содержать одно значение purchase.\n",
    "# Это нужно, чтобы в объединённом датафрейме однозначно выделить события оплаты.\n",
    "purchase['event_type'] = 'purchase'\n",
    "# Сделаем объединенный датафрейм из событий и оплат\n",
    "total_events_df = pd.concat([events,purchase],sort=False)\n",
    "print(total_events_df.head(5))"
   ]
  },
  {
   "cell_type": "markdown",
   "metadata": {},
   "source": [
    "### ШАГ 2. Выделим отдельные группы пользователей и посмотрим, сколько доходит до каждого этапа"
   ]
  },
  {
   "cell_type": "code",
   "execution_count": 7,
   "metadata": {},
   "outputs": [],
   "source": [
    "# Выделим отдельные группы пользователей\n",
    "registrated_users = set(events[events['event_type'] == 'registration']['user_id'])\n",
    "tutorial_started_users = set(events[events['event_type'] == 'tutorial_start']['user_id'])\n",
    "tutorial_finish_users = set(events[events['event_type'] == 'tutorial_finish']['user_id'])\n",
    "tutorial_not_started_users = registrated_users - tutorial_started_users\n",
    "level_choice_users = set(events[events['event_type'] == 'level_choice']['user_id'])\n",
    "pack_choice_users = set(events[events['event_type'] == 'pack_choice']['user_id'])\n",
    "purchase_users = set(purchase['user_id'])\n",
    "purchase_users_start_tut = purchase[purchase['user_id'].isin(tutorial_started_users)]\n",
    "purchase_users_not_start_tut = purchase[purchase['user_id'].isin(tutorial_not_started_users)]"
   ]
  },
  {
   "cell_type": "markdown",
   "metadata": {},
   "source": [
    "Посмотрим на количество пользователей, дошедших до каждого этапа"
   ]
  },
  {
   "cell_type": "code",
   "execution_count": 8,
   "metadata": {},
   "outputs": [
    {
     "name": "stdout",
     "output_type": "stream",
     "text": [
      "Количество зарегистрировавшихся                :     19926 :     100.0 %\n",
      "Количество начинавших обучение                 :     11858 :     59.51 %\n",
      "Количество окончивших обучение                 :     10250 :     51.44 %\n",
      "Количество не начинавших обучение              :      8068 :     40.49 %\n",
      "Количество выбравших уровень                   :      8342 :     41.86 %\n",
      "Количество выбравших пакет вопросов            :      5737 :     28.79 %\n",
      "Количество оплативших                          :      1600 :      8.03 %\n",
      "Количество оплат-ших и проходивших обучение    :      1578 :      7.92 %\n",
      "Количество оплат-ших и не проходивших обучение :        22 :      0.11 %\n"
     ]
    }
   ],
   "source": [
    "stages = ['Количество зарегистрировавшихся','Количество начинавших обучение','Количество окончивших обучение',\\\n",
    "         'Количество не начинавших обучение', 'Количество выбравших уровень', 'Количество выбравших пакет вопросов',\\\n",
    "         'Количество оплативших', 'Количество оплат-ших и проходивших обучение', 'Количество оплат-ших и не проходивших обучение']\n",
    "counts = [len(registrated_users),len(tutorial_started_users),len(tutorial_finish_users),\\\n",
    "        len(tutorial_not_started_users),len(level_choice_users), len(pack_choice_users), len(purchase_users), len(purchase_users_start_tut), len(purchase_users_not_start_tut)]\n",
    "\n",
    "for i in range(len(stages)):\n",
    "    print(f'{stages[i]:47}:{str(counts[i]):>10} :{round(counts[i]/counts[0]*100, 2):>10} %')"
   ]
  },
  {
   "cell_type": "code",
   "execution_count": 38,
   "metadata": {},
   "outputs": [
    {
     "data": {
      "text/html": [
       "<html>\n",
       "<head><meta charset=\"utf-8\" /></head>\n",
       "<body>\n",
       "    <div>            <script src=\"https://cdnjs.cloudflare.com/ajax/libs/mathjax/2.7.5/MathJax.js?config=TeX-AMS-MML_SVG\"></script><script type=\"text/javascript\">if (window.MathJax) {MathJax.Hub.Config({SVG: {font: \"STIX-Web\"}});}</script>                <script type=\"text/javascript\">window.PlotlyConfig = {MathJaxConfig: 'local'};</script>\n",
       "        <script src=\"https://cdn.plot.ly/plotly-2.6.3.min.js\"></script>                <div id=\"36443f6c-b7bd-44a2-a1bf-22b7ccdbb6fe\" class=\"plotly-graph-div\" style=\"height:525px; width:100%;\"></div>            <script type=\"text/javascript\">                                    window.PLOTLYENV=window.PLOTLYENV || {};                                    if (document.getElementById(\"36443f6c-b7bd-44a2-a1bf-22b7ccdbb6fe\")) {                    Plotly.newPlot(                        \"36443f6c-b7bd-44a2-a1bf-22b7ccdbb6fe\",                        [{\"textinfo\":\"value+percent initial\",\"textposition\":\"inside\",\"x\":[19926,11858,10250,8068,8342,5737,1600,1578,22],\"y\":[\"\\u041a\\u043e\\u043b\\u0438\\u0447\\u0435\\u0441\\u0442\\u0432\\u043e \\u0437\\u0430\\u0440\\u0435\\u0433\\u0438\\u0441\\u0442\\u0440\\u0438\\u0440\\u043e\\u0432\\u0430\\u0432\\u0448\\u0438\\u0445\\u0441\\u044f\",\"\\u041a\\u043e\\u043b\\u0438\\u0447\\u0435\\u0441\\u0442\\u0432\\u043e \\u043d\\u0430\\u0447\\u0438\\u043d\\u0430\\u0432\\u0448\\u0438\\u0445 \\u043e\\u0431\\u0443\\u0447\\u0435\\u043d\\u0438\\u0435\",\"\\u041a\\u043e\\u043b\\u0438\\u0447\\u0435\\u0441\\u0442\\u0432\\u043e \\u043e\\u043a\\u043e\\u043d\\u0447\\u0438\\u0432\\u0448\\u0438\\u0445 \\u043e\\u0431\\u0443\\u0447\\u0435\\u043d\\u0438\\u0435\",\"\\u041a\\u043e\\u043b\\u0438\\u0447\\u0435\\u0441\\u0442\\u0432\\u043e \\u043d\\u0435 \\u043d\\u0430\\u0447\\u0438\\u043d\\u0430\\u0432\\u0448\\u0438\\u0445 \\u043e\\u0431\\u0443\\u0447\\u0435\\u043d\\u0438\\u0435\",\"\\u041a\\u043e\\u043b\\u0438\\u0447\\u0435\\u0441\\u0442\\u0432\\u043e \\u0432\\u044b\\u0431\\u0440\\u0430\\u0432\\u0448\\u0438\\u0445 \\u0443\\u0440\\u043e\\u0432\\u0435\\u043d\\u044c\",\"\\u041a\\u043e\\u043b\\u0438\\u0447\\u0435\\u0441\\u0442\\u0432\\u043e \\u0432\\u044b\\u0431\\u0440\\u0430\\u0432\\u0448\\u0438\\u0445 \\u043f\\u0430\\u043a\\u0435\\u0442 \\u0432\\u043e\\u043f\\u0440\\u043e\\u0441\\u043e\\u0432\",\"\\u041a\\u043e\\u043b\\u0438\\u0447\\u0435\\u0441\\u0442\\u0432\\u043e \\u043e\\u043f\\u043b\\u0430\\u0442\\u0438\\u0432\\u0448\\u0438\\u0445\",\"\\u041a\\u043e\\u043b\\u0438\\u0447\\u0435\\u0441\\u0442\\u0432\\u043e \\u043e\\u043f\\u043b\\u0430\\u0442-\\u0448\\u0438\\u0445 \\u0438 \\u043f\\u0440\\u043e\\u0445\\u043e\\u0434\\u0438\\u0432\\u0448\\u0438\\u0445 \\u043e\\u0431\\u0443\\u0447\\u0435\\u043d\\u0438\\u0435\",\"\\u041a\\u043e\\u043b\\u0438\\u0447\\u0435\\u0441\\u0442\\u0432\\u043e \\u043e\\u043f\\u043b\\u0430\\u0442-\\u0448\\u0438\\u0445 \\u0438 \\u043d\\u0435 \\u043f\\u0440\\u043e\\u0445\\u043e\\u0434\\u0438\\u0432\\u0448\\u0438\\u0445 \\u043e\\u0431\\u0443\\u0447\\u0435\\u043d\\u0438\\u0435\"],\"type\":\"funnel\"}],                        {\"margin\":{\"l\":200,\"r\":100},\"title\":{\"text\":\"\\u0412\\u043e\\u0440\\u043e\\u043d\\u043a\\u0430 \\u043f\\u0440\\u043e\\u0434\\u0430\\u0436 \\u0434\\u043b\\u044f \\u043f\\u043e\\u043b\\u044c\\u0437\\u043e\\u0432\\u0430\\u0442\\u0435\\u043b\\u0435\\u0439 \\u043f\\u0440\\u043e\\u0445\\u043e\\u0434\\u0438\\u0432\\u0448\\u0438\\u0445/\\u043d\\u0435 \\u043f\\u0440\\u043e\\u0445\\u043e\\u0434\\u0438\\u0432\\u0448\\u0438\\u0445 \\u043e\\u0431\\u0443\\u0447\\u0435\\u043d\\u0438\\u0435\"},\"template\":{\"data\":{\"bar\":[{\"error_x\":{\"color\":\"#2a3f5f\"},\"error_y\":{\"color\":\"#2a3f5f\"},\"marker\":{\"line\":{\"color\":\"#E5ECF6\",\"width\":0.5},\"pattern\":{\"fillmode\":\"overlay\",\"size\":10,\"solidity\":0.2}},\"type\":\"bar\"}],\"barpolar\":[{\"marker\":{\"line\":{\"color\":\"#E5ECF6\",\"width\":0.5},\"pattern\":{\"fillmode\":\"overlay\",\"size\":10,\"solidity\":0.2}},\"type\":\"barpolar\"}],\"carpet\":[{\"aaxis\":{\"endlinecolor\":\"#2a3f5f\",\"gridcolor\":\"white\",\"linecolor\":\"white\",\"minorgridcolor\":\"white\",\"startlinecolor\":\"#2a3f5f\"},\"baxis\":{\"endlinecolor\":\"#2a3f5f\",\"gridcolor\":\"white\",\"linecolor\":\"white\",\"minorgridcolor\":\"white\",\"startlinecolor\":\"#2a3f5f\"},\"type\":\"carpet\"}],\"choropleth\":[{\"colorbar\":{\"outlinewidth\":0,\"ticks\":\"\"},\"type\":\"choropleth\"}],\"contour\":[{\"colorbar\":{\"outlinewidth\":0,\"ticks\":\"\"},\"colorscale\":[[0.0,\"#0d0887\"],[0.1111111111111111,\"#46039f\"],[0.2222222222222222,\"#7201a8\"],[0.3333333333333333,\"#9c179e\"],[0.4444444444444444,\"#bd3786\"],[0.5555555555555556,\"#d8576b\"],[0.6666666666666666,\"#ed7953\"],[0.7777777777777778,\"#fb9f3a\"],[0.8888888888888888,\"#fdca26\"],[1.0,\"#f0f921\"]],\"type\":\"contour\"}],\"contourcarpet\":[{\"colorbar\":{\"outlinewidth\":0,\"ticks\":\"\"},\"type\":\"contourcarpet\"}],\"heatmap\":[{\"colorbar\":{\"outlinewidth\":0,\"ticks\":\"\"},\"colorscale\":[[0.0,\"#0d0887\"],[0.1111111111111111,\"#46039f\"],[0.2222222222222222,\"#7201a8\"],[0.3333333333333333,\"#9c179e\"],[0.4444444444444444,\"#bd3786\"],[0.5555555555555556,\"#d8576b\"],[0.6666666666666666,\"#ed7953\"],[0.7777777777777778,\"#fb9f3a\"],[0.8888888888888888,\"#fdca26\"],[1.0,\"#f0f921\"]],\"type\":\"heatmap\"}],\"heatmapgl\":[{\"colorbar\":{\"outlinewidth\":0,\"ticks\":\"\"},\"colorscale\":[[0.0,\"#0d0887\"],[0.1111111111111111,\"#46039f\"],[0.2222222222222222,\"#7201a8\"],[0.3333333333333333,\"#9c179e\"],[0.4444444444444444,\"#bd3786\"],[0.5555555555555556,\"#d8576b\"],[0.6666666666666666,\"#ed7953\"],[0.7777777777777778,\"#fb9f3a\"],[0.8888888888888888,\"#fdca26\"],[1.0,\"#f0f921\"]],\"type\":\"heatmapgl\"}],\"histogram\":[{\"marker\":{\"pattern\":{\"fillmode\":\"overlay\",\"size\":10,\"solidity\":0.2}},\"type\":\"histogram\"}],\"histogram2d\":[{\"colorbar\":{\"outlinewidth\":0,\"ticks\":\"\"},\"colorscale\":[[0.0,\"#0d0887\"],[0.1111111111111111,\"#46039f\"],[0.2222222222222222,\"#7201a8\"],[0.3333333333333333,\"#9c179e\"],[0.4444444444444444,\"#bd3786\"],[0.5555555555555556,\"#d8576b\"],[0.6666666666666666,\"#ed7953\"],[0.7777777777777778,\"#fb9f3a\"],[0.8888888888888888,\"#fdca26\"],[1.0,\"#f0f921\"]],\"type\":\"histogram2d\"}],\"histogram2dcontour\":[{\"colorbar\":{\"outlinewidth\":0,\"ticks\":\"\"},\"colorscale\":[[0.0,\"#0d0887\"],[0.1111111111111111,\"#46039f\"],[0.2222222222222222,\"#7201a8\"],[0.3333333333333333,\"#9c179e\"],[0.4444444444444444,\"#bd3786\"],[0.5555555555555556,\"#d8576b\"],[0.6666666666666666,\"#ed7953\"],[0.7777777777777778,\"#fb9f3a\"],[0.8888888888888888,\"#fdca26\"],[1.0,\"#f0f921\"]],\"type\":\"histogram2dcontour\"}],\"mesh3d\":[{\"colorbar\":{\"outlinewidth\":0,\"ticks\":\"\"},\"type\":\"mesh3d\"}],\"parcoords\":[{\"line\":{\"colorbar\":{\"outlinewidth\":0,\"ticks\":\"\"}},\"type\":\"parcoords\"}],\"pie\":[{\"automargin\":true,\"type\":\"pie\"}],\"scatter\":[{\"marker\":{\"colorbar\":{\"outlinewidth\":0,\"ticks\":\"\"}},\"type\":\"scatter\"}],\"scatter3d\":[{\"line\":{\"colorbar\":{\"outlinewidth\":0,\"ticks\":\"\"}},\"marker\":{\"colorbar\":{\"outlinewidth\":0,\"ticks\":\"\"}},\"type\":\"scatter3d\"}],\"scattercarpet\":[{\"marker\":{\"colorbar\":{\"outlinewidth\":0,\"ticks\":\"\"}},\"type\":\"scattercarpet\"}],\"scattergeo\":[{\"marker\":{\"colorbar\":{\"outlinewidth\":0,\"ticks\":\"\"}},\"type\":\"scattergeo\"}],\"scattergl\":[{\"marker\":{\"colorbar\":{\"outlinewidth\":0,\"ticks\":\"\"}},\"type\":\"scattergl\"}],\"scattermapbox\":[{\"marker\":{\"colorbar\":{\"outlinewidth\":0,\"ticks\":\"\"}},\"type\":\"scattermapbox\"}],\"scatterpolar\":[{\"marker\":{\"colorbar\":{\"outlinewidth\":0,\"ticks\":\"\"}},\"type\":\"scatterpolar\"}],\"scatterpolargl\":[{\"marker\":{\"colorbar\":{\"outlinewidth\":0,\"ticks\":\"\"}},\"type\":\"scatterpolargl\"}],\"scatterternary\":[{\"marker\":{\"colorbar\":{\"outlinewidth\":0,\"ticks\":\"\"}},\"type\":\"scatterternary\"}],\"surface\":[{\"colorbar\":{\"outlinewidth\":0,\"ticks\":\"\"},\"colorscale\":[[0.0,\"#0d0887\"],[0.1111111111111111,\"#46039f\"],[0.2222222222222222,\"#7201a8\"],[0.3333333333333333,\"#9c179e\"],[0.4444444444444444,\"#bd3786\"],[0.5555555555555556,\"#d8576b\"],[0.6666666666666666,\"#ed7953\"],[0.7777777777777778,\"#fb9f3a\"],[0.8888888888888888,\"#fdca26\"],[1.0,\"#f0f921\"]],\"type\":\"surface\"}],\"table\":[{\"cells\":{\"fill\":{\"color\":\"#EBF0F8\"},\"line\":{\"color\":\"white\"}},\"header\":{\"fill\":{\"color\":\"#C8D4E3\"},\"line\":{\"color\":\"white\"}},\"type\":\"table\"}]},\"layout\":{\"annotationdefaults\":{\"arrowcolor\":\"#2a3f5f\",\"arrowhead\":0,\"arrowwidth\":1},\"autotypenumbers\":\"strict\",\"coloraxis\":{\"colorbar\":{\"outlinewidth\":0,\"ticks\":\"\"}},\"colorscale\":{\"diverging\":[[0,\"#8e0152\"],[0.1,\"#c51b7d\"],[0.2,\"#de77ae\"],[0.3,\"#f1b6da\"],[0.4,\"#fde0ef\"],[0.5,\"#f7f7f7\"],[0.6,\"#e6f5d0\"],[0.7,\"#b8e186\"],[0.8,\"#7fbc41\"],[0.9,\"#4d9221\"],[1,\"#276419\"]],\"sequential\":[[0.0,\"#0d0887\"],[0.1111111111111111,\"#46039f\"],[0.2222222222222222,\"#7201a8\"],[0.3333333333333333,\"#9c179e\"],[0.4444444444444444,\"#bd3786\"],[0.5555555555555556,\"#d8576b\"],[0.6666666666666666,\"#ed7953\"],[0.7777777777777778,\"#fb9f3a\"],[0.8888888888888888,\"#fdca26\"],[1.0,\"#f0f921\"]],\"sequentialminus\":[[0.0,\"#0d0887\"],[0.1111111111111111,\"#46039f\"],[0.2222222222222222,\"#7201a8\"],[0.3333333333333333,\"#9c179e\"],[0.4444444444444444,\"#bd3786\"],[0.5555555555555556,\"#d8576b\"],[0.6666666666666666,\"#ed7953\"],[0.7777777777777778,\"#fb9f3a\"],[0.8888888888888888,\"#fdca26\"],[1.0,\"#f0f921\"]]},\"colorway\":[\"#636efa\",\"#EF553B\",\"#00cc96\",\"#ab63fa\",\"#FFA15A\",\"#19d3f3\",\"#FF6692\",\"#B6E880\",\"#FF97FF\",\"#FECB52\"],\"font\":{\"color\":\"#2a3f5f\"},\"geo\":{\"bgcolor\":\"white\",\"lakecolor\":\"white\",\"landcolor\":\"#E5ECF6\",\"showlakes\":true,\"showland\":true,\"subunitcolor\":\"white\"},\"hoverlabel\":{\"align\":\"left\"},\"hovermode\":\"closest\",\"mapbox\":{\"style\":\"light\"},\"paper_bgcolor\":\"white\",\"plot_bgcolor\":\"#E5ECF6\",\"polar\":{\"angularaxis\":{\"gridcolor\":\"white\",\"linecolor\":\"white\",\"ticks\":\"\"},\"bgcolor\":\"#E5ECF6\",\"radialaxis\":{\"gridcolor\":\"white\",\"linecolor\":\"white\",\"ticks\":\"\"}},\"scene\":{\"xaxis\":{\"backgroundcolor\":\"#E5ECF6\",\"gridcolor\":\"white\",\"gridwidth\":2,\"linecolor\":\"white\",\"showbackground\":true,\"ticks\":\"\",\"zerolinecolor\":\"white\"},\"yaxis\":{\"backgroundcolor\":\"#E5ECF6\",\"gridcolor\":\"white\",\"gridwidth\":2,\"linecolor\":\"white\",\"showbackground\":true,\"ticks\":\"\",\"zerolinecolor\":\"white\"},\"zaxis\":{\"backgroundcolor\":\"#E5ECF6\",\"gridcolor\":\"white\",\"gridwidth\":2,\"linecolor\":\"white\",\"showbackground\":true,\"ticks\":\"\",\"zerolinecolor\":\"white\"}},\"shapedefaults\":{\"line\":{\"color\":\"#2a3f5f\"}},\"ternary\":{\"aaxis\":{\"gridcolor\":\"white\",\"linecolor\":\"white\",\"ticks\":\"\"},\"baxis\":{\"gridcolor\":\"white\",\"linecolor\":\"white\",\"ticks\":\"\"},\"bgcolor\":\"#E5ECF6\",\"caxis\":{\"gridcolor\":\"white\",\"linecolor\":\"white\",\"ticks\":\"\"}},\"title\":{\"x\":0.05},\"xaxis\":{\"automargin\":true,\"gridcolor\":\"white\",\"linecolor\":\"white\",\"ticks\":\"\",\"title\":{\"standoff\":15},\"zerolinecolor\":\"white\",\"zerolinewidth\":2},\"yaxis\":{\"automargin\":true,\"gridcolor\":\"white\",\"linecolor\":\"white\",\"ticks\":\"\",\"title\":{\"standoff\":15},\"zerolinecolor\":\"white\",\"zerolinewidth\":2}}}},                        {\"responsive\": true}                    ).then(function(){\n",
       "                            \n",
       "var gd = document.getElementById('36443f6c-b7bd-44a2-a1bf-22b7ccdbb6fe');\n",
       "var x = new MutationObserver(function (mutations, observer) {{\n",
       "        var display = window.getComputedStyle(gd).display;\n",
       "        if (!display || display === 'none') {{\n",
       "            console.log([gd, 'removed!']);\n",
       "            Plotly.purge(gd);\n",
       "            observer.disconnect();\n",
       "        }}\n",
       "}});\n",
       "\n",
       "// Listen for the removal of the full notebook cells\n",
       "var notebookContainer = gd.closest('#notebook-container');\n",
       "if (notebookContainer) {{\n",
       "    x.observe(notebookContainer, {childList: true});\n",
       "}}\n",
       "\n",
       "// Listen for the clearing of the current output cell\n",
       "var outputEl = gd.closest('.output');\n",
       "if (outputEl) {{\n",
       "    x.observe(outputEl, {childList: true});\n",
       "}}\n",
       "\n",
       "                        })                };                            </script>        </div>\n",
       "</body>\n",
       "</html>"
      ]
     },
     "metadata": {},
     "output_type": "display_data"
    }
   ],
   "source": [
    "trace = go.Funnel(\n",
    "    y = stages,\n",
    "    x = counts,\n",
    "    textposition = \"inside\",\n",
    "    textinfo = \"value+percent initial\",\n",
    "    )\n",
    "layout = go.Layout(\n",
    "    title = \"Воронка продаж для пользователей проходивших/не проходивших обучение\",\n",
    "    margin = {\"l\": 200, \"r\": 100})\n",
    "    \n",
    "fig = go.Figure(trace, layout)\n",
    "fig.show()"
   ]
  },
  {
   "cell_type": "markdown",
   "metadata": {},
   "source": [
    "### ШАГ 3. Проанализируем этапы прохождения игры"
   ]
  },
  {
   "cell_type": "code",
   "execution_count": 10,
   "metadata": {},
   "outputs": [
    {
     "name": "stdout",
     "output_type": "stream",
     "text": [
      "19926\n"
     ]
    },
    {
     "data": {
      "text/html": [
       "<div>\n",
       "<style scoped>\n",
       "    .dataframe tbody tr th:only-of-type {\n",
       "        vertical-align: middle;\n",
       "    }\n",
       "\n",
       "    .dataframe tbody tr th {\n",
       "        vertical-align: top;\n",
       "    }\n",
       "\n",
       "    .dataframe thead tr th {\n",
       "        text-align: left;\n",
       "    }\n",
       "\n",
       "    .dataframe thead tr:last-of-type th {\n",
       "        text-align: right;\n",
       "    }\n",
       "</style>\n",
       "<table border=\"1\" class=\"dataframe\">\n",
       "  <thead>\n",
       "    <tr>\n",
       "      <th></th>\n",
       "      <th colspan=\"6\" halign=\"left\">start_time</th>\n",
       "    </tr>\n",
       "    <tr>\n",
       "      <th>event_type</th>\n",
       "      <th>level_choice</th>\n",
       "      <th>pack_choice</th>\n",
       "      <th>registration</th>\n",
       "      <th>tutorial_finish</th>\n",
       "      <th>tutorial_start</th>\n",
       "      <th>purchase</th>\n",
       "    </tr>\n",
       "    <tr>\n",
       "      <th>user_id</th>\n",
       "      <th></th>\n",
       "      <th></th>\n",
       "      <th></th>\n",
       "      <th></th>\n",
       "      <th></th>\n",
       "      <th></th>\n",
       "    </tr>\n",
       "  </thead>\n",
       "  <tbody>\n",
       "    <tr>\n",
       "      <th>27832</th>\n",
       "      <td>NaT</td>\n",
       "      <td>NaT</td>\n",
       "      <td>2018-01-01 03:48:40</td>\n",
       "      <td>NaT</td>\n",
       "      <td>NaT</td>\n",
       "      <td>NaT</td>\n",
       "    </tr>\n",
       "    <tr>\n",
       "      <th>27833</th>\n",
       "      <td>NaT</td>\n",
       "      <td>NaT</td>\n",
       "      <td>2018-01-01 04:07:25</td>\n",
       "      <td>2018-01-01 17:50:08</td>\n",
       "      <td>2018-01-01 17:47:40</td>\n",
       "      <td>NaT</td>\n",
       "    </tr>\n",
       "    <tr>\n",
       "      <th>27834</th>\n",
       "      <td>NaT</td>\n",
       "      <td>NaT</td>\n",
       "      <td>2018-01-01 08:35:10</td>\n",
       "      <td>2018-01-01 19:48:01</td>\n",
       "      <td>2018-01-01 19:46:11</td>\n",
       "      <td>NaT</td>\n",
       "    </tr>\n",
       "    <tr>\n",
       "      <th>27835</th>\n",
       "      <td>2018-01-01 20:37:22</td>\n",
       "      <td>2018-01-01 20:38:43</td>\n",
       "      <td>2018-01-01 11:54:47</td>\n",
       "      <td>2018-01-01 15:06:15</td>\n",
       "      <td>2018-01-01 15:00:51</td>\n",
       "      <td>NaT</td>\n",
       "    </tr>\n",
       "    <tr>\n",
       "      <th>27836</th>\n",
       "      <td>NaT</td>\n",
       "      <td>NaT</td>\n",
       "      <td>2018-01-01 13:28:07</td>\n",
       "      <td>2018-01-01 15:42:58</td>\n",
       "      <td>2018-01-01 14:54:40</td>\n",
       "      <td>NaT</td>\n",
       "    </tr>\n",
       "  </tbody>\n",
       "</table>\n",
       "</div>"
      ],
      "text/plain": [
       "                    start_time                                          \\\n",
       "event_type        level_choice         pack_choice        registration   \n",
       "user_id                                                                  \n",
       "27832                      NaT                 NaT 2018-01-01 03:48:40   \n",
       "27833                      NaT                 NaT 2018-01-01 04:07:25   \n",
       "27834                      NaT                 NaT 2018-01-01 08:35:10   \n",
       "27835      2018-01-01 20:37:22 2018-01-01 20:38:43 2018-01-01 11:54:47   \n",
       "27836                      NaT                 NaT 2018-01-01 13:28:07   \n",
       "\n",
       "                                                             \n",
       "event_type     tutorial_finish      tutorial_start purchase  \n",
       "user_id                                                      \n",
       "27832                      NaT                 NaT      NaT  \n",
       "27833      2018-01-01 17:50:08 2018-01-01 17:47:40      NaT  \n",
       "27834      2018-01-01 19:48:01 2018-01-01 19:46:11      NaT  \n",
       "27835      2018-01-01 15:06:15 2018-01-01 15:00:51      NaT  \n",
       "27836      2018-01-01 15:42:58 2018-01-01 14:54:40      NaT  "
      ]
     },
     "execution_count": 10,
     "metadata": {},
     "output_type": "execute_result"
    }
   ],
   "source": [
    "# Переименуем название столбца\n",
    "total_events_df = total_events_df.rename(columns={'event_datetime':'start_time'})\n",
    "# Создадим датафрейм с минимальным временем выбранного события, если событие могло произойти несколько раз\n",
    "users_time_df = total_events_df.pivot_table(values=['start_time'], index=['user_id'], \\\n",
    "    columns=['event_type', ], aggfunc='min').copy()\n",
    "print(len(users_time_df))\n",
    "users_time_df.head()"
   ]
  },
  {
   "cell_type": "code",
   "execution_count": 11,
   "metadata": {},
   "outputs": [
    {
     "data": {
      "text/html": [
       "<div>\n",
       "<style scoped>\n",
       "    .dataframe tbody tr th:only-of-type {\n",
       "        vertical-align: middle;\n",
       "    }\n",
       "\n",
       "    .dataframe tbody tr th {\n",
       "        vertical-align: top;\n",
       "    }\n",
       "\n",
       "    .dataframe thead th {\n",
       "        text-align: right;\n",
       "    }\n",
       "</style>\n",
       "<table border=\"1\" class=\"dataframe\">\n",
       "  <thead>\n",
       "    <tr style=\"text-align: right;\">\n",
       "      <th></th>\n",
       "      <th>user_id</th>\n",
       "      <th>level_choice</th>\n",
       "      <th>pack_choice</th>\n",
       "      <th>registration</th>\n",
       "      <th>tutorial_finish</th>\n",
       "      <th>tutorial_start</th>\n",
       "      <th>purchase</th>\n",
       "    </tr>\n",
       "  </thead>\n",
       "  <tbody>\n",
       "    <tr>\n",
       "      <th>0</th>\n",
       "      <td>27832</td>\n",
       "      <td>NaT</td>\n",
       "      <td>NaT</td>\n",
       "      <td>2018-01-01 03:48:40</td>\n",
       "      <td>NaT</td>\n",
       "      <td>NaT</td>\n",
       "      <td>NaT</td>\n",
       "    </tr>\n",
       "    <tr>\n",
       "      <th>1</th>\n",
       "      <td>27833</td>\n",
       "      <td>NaT</td>\n",
       "      <td>NaT</td>\n",
       "      <td>2018-01-01 04:07:25</td>\n",
       "      <td>2018-01-01 17:50:08</td>\n",
       "      <td>2018-01-01 17:47:40</td>\n",
       "      <td>NaT</td>\n",
       "    </tr>\n",
       "    <tr>\n",
       "      <th>2</th>\n",
       "      <td>27834</td>\n",
       "      <td>NaT</td>\n",
       "      <td>NaT</td>\n",
       "      <td>2018-01-01 08:35:10</td>\n",
       "      <td>2018-01-01 19:48:01</td>\n",
       "      <td>2018-01-01 19:46:11</td>\n",
       "      <td>NaT</td>\n",
       "    </tr>\n",
       "    <tr>\n",
       "      <th>3</th>\n",
       "      <td>27835</td>\n",
       "      <td>2018-01-01 20:37:22</td>\n",
       "      <td>2018-01-01 20:38:43</td>\n",
       "      <td>2018-01-01 11:54:47</td>\n",
       "      <td>2018-01-01 15:06:15</td>\n",
       "      <td>2018-01-01 15:00:51</td>\n",
       "      <td>NaT</td>\n",
       "    </tr>\n",
       "    <tr>\n",
       "      <th>4</th>\n",
       "      <td>27836</td>\n",
       "      <td>NaT</td>\n",
       "      <td>NaT</td>\n",
       "      <td>2018-01-01 13:28:07</td>\n",
       "      <td>2018-01-01 15:42:58</td>\n",
       "      <td>2018-01-01 14:54:40</td>\n",
       "      <td>NaT</td>\n",
       "    </tr>\n",
       "  </tbody>\n",
       "</table>\n",
       "</div>"
      ],
      "text/plain": [
       "   user_id        level_choice         pack_choice        registration  \\\n",
       "0    27832                 NaT                 NaT 2018-01-01 03:48:40   \n",
       "1    27833                 NaT                 NaT 2018-01-01 04:07:25   \n",
       "2    27834                 NaT                 NaT 2018-01-01 08:35:10   \n",
       "3    27835 2018-01-01 20:37:22 2018-01-01 20:38:43 2018-01-01 11:54:47   \n",
       "4    27836                 NaT                 NaT 2018-01-01 13:28:07   \n",
       "\n",
       "      tutorial_finish      tutorial_start purchase  \n",
       "0                 NaT                 NaT      NaT  \n",
       "1 2018-01-01 17:50:08 2018-01-01 17:47:40      NaT  \n",
       "2 2018-01-01 19:48:01 2018-01-01 19:46:11      NaT  \n",
       "3 2018-01-01 15:06:15 2018-01-01 15:00:51      NaT  \n",
       "4 2018-01-01 15:42:58 2018-01-01 14:54:40      NaT  "
      ]
     },
     "execution_count": 11,
     "metadata": {},
     "output_type": "execute_result"
    }
   ],
   "source": [
    "# Создадим сводную таблицу, где для каждого уникального пользователя в столбцах будет начало каждого этапа\n",
    "users_time_df.reset_index(inplace=True)\n",
    "users_time_df.columns=['user_id', 'level_choice', 'pack_choice', 'registration', 'tutorial_finish', 'tutorial_start', 'purchase']\n",
    "users_time_df.head()"
   ]
  },
  {
   "cell_type": "code",
   "execution_count": 12,
   "metadata": {},
   "outputs": [
    {
     "name": "stdout",
     "output_type": "stream",
     "text": [
      "   user_id        level_choice         pack_choice        registration  \\\n",
      "0    27832                 NaT                 NaT 2018-01-01 03:48:40   \n",
      "1    27833                 NaT                 NaT 2018-01-01 04:07:25   \n",
      "2    27834                 NaT                 NaT 2018-01-01 08:35:10   \n",
      "3    27835 2018-01-01 20:37:22 2018-01-01 20:38:43 2018-01-01 11:54:47   \n",
      "4    27836                 NaT                 NaT 2018-01-01 13:28:07   \n",
      "\n",
      "      tutorial_finish      tutorial_start purchase     tutorial_group  \n",
      "0                 NaT                 NaT      NaT   without_tutorial  \n",
      "1 2018-01-01 17:50:08 2018-01-01 17:47:40      NaT  finished_tutorial  \n",
      "2 2018-01-01 19:48:01 2018-01-01 19:46:11      NaT  finished_tutorial  \n",
      "3 2018-01-01 15:06:15 2018-01-01 15:00:51      NaT  finished_tutorial  \n",
      "4 2018-01-01 15:42:58 2018-01-01 14:54:40      NaT  finished_tutorial  \n"
     ]
    }
   ],
   "source": [
    "# Добавим колонку с признаком группы\n",
    "users_time_df['tutorial_group'] = users_time_df['user_id'].apply(lambda x: 'finished_tutorial' if x in tutorial_finish_users \\\n",
    "    else 'without_tutorial' if x in tutorial_not_started_users else 'others')\n",
    "print(users_time_df.head())"
   ]
  },
  {
   "cell_type": "code",
   "execution_count": 13,
   "metadata": {},
   "outputs": [
    {
     "name": "stdout",
     "output_type": "stream",
     "text": [
      "True\n"
     ]
    }
   ],
   "source": [
    "# Проверяем правильность формирования групп\n",
    "count_finished = len(users_time_df[users_time_df['tutorial_group'] == 'finished_tutorial']['user_id'].unique())\n",
    "count_not_started = len(users_time_df[users_time_df['tutorial_group'] == 'without_tutorial']['user_id'].unique())\n",
    "count_other = len(users_time_df[users_time_df['tutorial_group'] == 'others']['user_id'].unique())\n",
    "print(len(registrated_users) == count_finished + count_not_started + count_other)\n"
   ]
  },
  {
   "cell_type": "code",
   "execution_count": 14,
   "metadata": {},
   "outputs": [
    {
     "name": "stdout",
     "output_type": "stream",
     "text": [
      "Среднее время между регистрацией и оплатой tutorial_group\n",
      "finished_tutorial   4 days 00:30:03.247408431\n",
      "others              4 days 05:32:53.213740458\n",
      "without_tutorial    4 days 09:06:01.909090909\n",
      "Name: time_delta_purch, dtype: timedelta64[ns]\n",
      "\n",
      "***********************************\n",
      "Среднее время между регистрацией и выбором уровня tutorial_group\n",
      "finished_tutorial   0 days 07:05:36.854819357\n",
      "others              0 days 08:12:57.551816958\n",
      "without_tutorial    0 days 05:15:33.122448979\n",
      "Name: time_delta_lev_reg, dtype: timedelta64[ns]\n",
      "\n",
      "***********************************\n",
      "Среднее время между выбором уровня и выбором пакета вопросов tutorial_group\n",
      "finished_tutorial   0 days 00:05:18.146058732\n",
      "others              0 days 00:05:05.295687885\n",
      "without_tutorial    0 days 00:05:23.824324324\n",
      "Name: time_delta_pack_lev, dtype: timedelta64[ns]\n",
      "\n",
      "***********************************\n",
      "Среднее время между выбором пакета вопросов и оплатой tutorial_group\n",
      "finished_tutorial   3 days 17:17:59.641326883\n",
      "others              3 days 21:14:46.908396946\n",
      "without_tutorial    4 days 04:49:33.590909090\n",
      "Name: time_delta_purch_pack, dtype: timedelta64[ns]\n"
     ]
    }
   ],
   "source": [
    "# Создадим колонки, где рассчитаем время прохождения этапов\n",
    "users_time_df['time_delta_purch'] = users_time_df['purchase'] - users_time_df['registration']\n",
    "users_time_df['time_delta_pack_lev'] = users_time_df['pack_choice'] - users_time_df['level_choice']\n",
    "users_time_df['time_delta_purch_pack'] = users_time_df['purchase'] - users_time_df['pack_choice']\n",
    "users_time_df['time_delta_lev_reg'] = users_time_df['level_choice'] - users_time_df['registration']\n",
    "print(f'Среднее время между регистрацией и оплатой', users_time_df.groupby('tutorial_group')['time_delta_purch'].apply(np.mean))\n",
    "print()\n",
    "print('***********************************')\n",
    "print(f'Среднее время между регистрацией и выбором уровня', users_time_df.groupby('tutorial_group')['time_delta_lev_reg'].apply(np.mean))\n",
    "print()\n",
    "print('***********************************')\n",
    "print(f'Среднее время между выбором уровня и выбором пакета вопросов', users_time_df.groupby('tutorial_group')['time_delta_pack_lev'].apply(np.mean))\n",
    "print()\n",
    "print('***********************************')\n",
    "print(f'Среднее время между выбором пакета вопросов и оплатой', users_time_df.groupby('tutorial_group')['time_delta_purch_pack'].apply(np.mean))"
   ]
  },
  {
   "cell_type": "code",
   "execution_count": 15,
   "metadata": {},
   "outputs": [],
   "source": [
    "# Приведем полученные значения к числовому формату\n",
    "users_time_df['time_delta_purch'] = users_time_df['time_delta_purch']/pd.Timedelta('1 hour')\n",
    "users_time_df['time_delta_pack_lev'] = users_time_df['time_delta_pack_lev']/ pd.Timedelta('1 hour')\n",
    "users_time_df['time_delta_purch_pack'] = users_time_df['time_delta_purch_pack']/ pd.Timedelta('1 hour')\n",
    "users_time_df['time_delta_lev_reg'] = users_time_df['time_delta_lev_reg']/ pd.Timedelta('1 hour')"
   ]
  },
  {
   "cell_type": "code",
   "execution_count": 16,
   "metadata": {},
   "outputs": [],
   "source": [
    "intervals_name = ['регистрация => выбор уровня',\n",
    "    'выбор уровня => выбор вопросов',\n",
    "    'выбор вопросов => оплата',\n",
    "    'регистрация => оплата']\n",
    "mean_1 = round(users_time_df.groupby('tutorial_group')['time_delta_lev_reg'].mean(), 2)\n",
    "mean_2 = round(users_time_df.groupby('tutorial_group')['time_delta_pack_lev'].mean(), 3)\n",
    "mean_3 = round(users_time_df.groupby('tutorial_group')['time_delta_purch_pack'].mean(), 2)\n",
    "mean_4 = round(users_time_df.groupby('tutorial_group')['time_delta_purch'].mean(), 2)\n",
    "groups = list(users_time_df['tutorial_group'].unique())\n",
    "for_finished_tutorial = []\n",
    "for_without_totorial = []\n",
    "for n in range(1, 5):\n",
    "    exec(f\"for_finished_tutorial.append(mean_{n}[0])\")\n",
    "    exec(f\"for_without_totorial.append(mean_{n}[2])\")\n",
    "    "
   ]
  },
  {
   "cell_type": "code",
   "execution_count": 17,
   "metadata": {},
   "outputs": [
    {
     "name": "stdout",
     "output_type": "stream",
     "text": [
      "Для завершивших обучение, среднее время между этапами в часах\n",
      "========================\n",
      "регистрация => выбор уровня        :                     7.09\n",
      "выбор уровня => выбор вопросов     :                    0.088\n",
      "выбор вопросов => оплата           :                     89.3\n",
      "регистрация => оплата              :                     96.5\n",
      "\n",
      "Для не начинавших обучение, среднее время между этапами в часах\n",
      "========================\n",
      "регистрация => выбор уровня        :                     5.26\n",
      "выбор уровня => выбор вопросов     :                     0.09\n",
      "выбор вопросов => оплата           :                   100.83\n",
      "регистрация => оплата              :                    105.1\n"
     ]
    }
   ],
   "source": [
    "print('Для завершивших обучение, среднее время между этапами в часах')\n",
    "print('========================')\n",
    "for i in range(len(intervals_name)):\n",
    "    print(f'{intervals_name[i]:35}:{str(for_finished_tutorial[i]):>25}')\n",
    "print()\n",
    "print('Для не начинавших обучение, среднее время между этапами в часах')\n",
    "print('========================')\n",
    "for i in range(len(intervals_name)):\n",
    "    print(f\"{intervals_name[i]:35}:{str(for_without_totorial[i]):>25}\")"
   ]
  },
  {
   "cell_type": "code",
   "execution_count": 39,
   "metadata": {},
   "outputs": [
    {
     "data": {
      "text/html": [
       "<html>\n",
       "<head><meta charset=\"utf-8\" /></head>\n",
       "<body>\n",
       "    <div>            <script src=\"https://cdnjs.cloudflare.com/ajax/libs/mathjax/2.7.5/MathJax.js?config=TeX-AMS-MML_SVG\"></script><script type=\"text/javascript\">if (window.MathJax) {MathJax.Hub.Config({SVG: {font: \"STIX-Web\"}});}</script>                <script type=\"text/javascript\">window.PlotlyConfig = {MathJaxConfig: 'local'};</script>\n",
       "        <script src=\"https://cdn.plot.ly/plotly-2.6.3.min.js\"></script>                <div id=\"dff6cd22-9ad1-4c11-b7bf-4fad03201715\" class=\"plotly-graph-div\" style=\"height:525px; width:100%;\"></div>            <script type=\"text/javascript\">                                    window.PLOTLYENV=window.PLOTLYENV || {};                                    if (document.getElementById(\"dff6cd22-9ad1-4c11-b7bf-4fad03201715\")) {                    Plotly.newPlot(                        \"dff6cd22-9ad1-4c11-b7bf-4fad03201715\",                        [{\"name\":\"\\u0417\\u0430\\u043a\\u043e\\u043d\\u0447\\u0438\\u043b\\u0438 \\u043e\\u0431\\u0443\\u0447\\u0435\\u043d\\u0438\\u0435\",\"text\":[\"7.09\",\"0.088\",\"89.3\",\"96.5\"],\"textposition\":\"auto\",\"x\":[\"\\u0440\\u0435\\u0433\\u0438\\u0441\\u0442\\u0440\\u0430\\u0446\\u0438\\u044f => \\u0432\\u044b\\u0431\\u043e\\u0440 \\u0443\\u0440\\u043e\\u0432\\u043d\\u044f\",\"\\u0432\\u044b\\u0431\\u043e\\u0440 \\u0443\\u0440\\u043e\\u0432\\u043d\\u044f => \\u0432\\u044b\\u0431\\u043e\\u0440 \\u0432\\u043e\\u043f\\u0440\\u043e\\u0441\\u043e\\u0432\",\"\\u0432\\u044b\\u0431\\u043e\\u0440 \\u0432\\u043e\\u043f\\u0440\\u043e\\u0441\\u043e\\u0432 => \\u043e\\u043f\\u043b\\u0430\\u0442\\u0430\",\"\\u0440\\u0435\\u0433\\u0438\\u0441\\u0442\\u0440\\u0430\\u0446\\u0438\\u044f => \\u043e\\u043f\\u043b\\u0430\\u0442\\u0430\"],\"y\":[7.09,0.088,89.3,96.5],\"type\":\"bar\"},{\"name\":\"\\u041d\\u0435 \\u043f\\u0440\\u043e\\u0445\\u043e\\u0434\\u0438\\u043b\\u0438 \\u043e\\u0431\\u0443\\u0447\\u0435\\u043d\\u0438\\u0435\",\"text\":[\"5.26\",\"0.09\",\"100.83\",\"105.1\"],\"textposition\":\"auto\",\"x\":[\"\\u0440\\u0435\\u0433\\u0438\\u0441\\u0442\\u0440\\u0430\\u0446\\u0438\\u044f => \\u0432\\u044b\\u0431\\u043e\\u0440 \\u0443\\u0440\\u043e\\u0432\\u043d\\u044f\",\"\\u0432\\u044b\\u0431\\u043e\\u0440 \\u0443\\u0440\\u043e\\u0432\\u043d\\u044f => \\u0432\\u044b\\u0431\\u043e\\u0440 \\u0432\\u043e\\u043f\\u0440\\u043e\\u0441\\u043e\\u0432\",\"\\u0432\\u044b\\u0431\\u043e\\u0440 \\u0432\\u043e\\u043f\\u0440\\u043e\\u0441\\u043e\\u0432 => \\u043e\\u043f\\u043b\\u0430\\u0442\\u0430\",\"\\u0440\\u0435\\u0433\\u0438\\u0441\\u0442\\u0440\\u0430\\u0446\\u0438\\u044f => \\u043e\\u043f\\u043b\\u0430\\u0442\\u0430\"],\"y\":[5.26,0.09,100.83,105.1],\"type\":\"bar\"}],                        {\"template\":{\"data\":{\"bar\":[{\"error_x\":{\"color\":\"#2a3f5f\"},\"error_y\":{\"color\":\"#2a3f5f\"},\"marker\":{\"line\":{\"color\":\"#E5ECF6\",\"width\":0.5},\"pattern\":{\"fillmode\":\"overlay\",\"size\":10,\"solidity\":0.2}},\"type\":\"bar\"}],\"barpolar\":[{\"marker\":{\"line\":{\"color\":\"#E5ECF6\",\"width\":0.5},\"pattern\":{\"fillmode\":\"overlay\",\"size\":10,\"solidity\":0.2}},\"type\":\"barpolar\"}],\"carpet\":[{\"aaxis\":{\"endlinecolor\":\"#2a3f5f\",\"gridcolor\":\"white\",\"linecolor\":\"white\",\"minorgridcolor\":\"white\",\"startlinecolor\":\"#2a3f5f\"},\"baxis\":{\"endlinecolor\":\"#2a3f5f\",\"gridcolor\":\"white\",\"linecolor\":\"white\",\"minorgridcolor\":\"white\",\"startlinecolor\":\"#2a3f5f\"},\"type\":\"carpet\"}],\"choropleth\":[{\"colorbar\":{\"outlinewidth\":0,\"ticks\":\"\"},\"type\":\"choropleth\"}],\"contour\":[{\"colorbar\":{\"outlinewidth\":0,\"ticks\":\"\"},\"colorscale\":[[0.0,\"#0d0887\"],[0.1111111111111111,\"#46039f\"],[0.2222222222222222,\"#7201a8\"],[0.3333333333333333,\"#9c179e\"],[0.4444444444444444,\"#bd3786\"],[0.5555555555555556,\"#d8576b\"],[0.6666666666666666,\"#ed7953\"],[0.7777777777777778,\"#fb9f3a\"],[0.8888888888888888,\"#fdca26\"],[1.0,\"#f0f921\"]],\"type\":\"contour\"}],\"contourcarpet\":[{\"colorbar\":{\"outlinewidth\":0,\"ticks\":\"\"},\"type\":\"contourcarpet\"}],\"heatmap\":[{\"colorbar\":{\"outlinewidth\":0,\"ticks\":\"\"},\"colorscale\":[[0.0,\"#0d0887\"],[0.1111111111111111,\"#46039f\"],[0.2222222222222222,\"#7201a8\"],[0.3333333333333333,\"#9c179e\"],[0.4444444444444444,\"#bd3786\"],[0.5555555555555556,\"#d8576b\"],[0.6666666666666666,\"#ed7953\"],[0.7777777777777778,\"#fb9f3a\"],[0.8888888888888888,\"#fdca26\"],[1.0,\"#f0f921\"]],\"type\":\"heatmap\"}],\"heatmapgl\":[{\"colorbar\":{\"outlinewidth\":0,\"ticks\":\"\"},\"colorscale\":[[0.0,\"#0d0887\"],[0.1111111111111111,\"#46039f\"],[0.2222222222222222,\"#7201a8\"],[0.3333333333333333,\"#9c179e\"],[0.4444444444444444,\"#bd3786\"],[0.5555555555555556,\"#d8576b\"],[0.6666666666666666,\"#ed7953\"],[0.7777777777777778,\"#fb9f3a\"],[0.8888888888888888,\"#fdca26\"],[1.0,\"#f0f921\"]],\"type\":\"heatmapgl\"}],\"histogram\":[{\"marker\":{\"pattern\":{\"fillmode\":\"overlay\",\"size\":10,\"solidity\":0.2}},\"type\":\"histogram\"}],\"histogram2d\":[{\"colorbar\":{\"outlinewidth\":0,\"ticks\":\"\"},\"colorscale\":[[0.0,\"#0d0887\"],[0.1111111111111111,\"#46039f\"],[0.2222222222222222,\"#7201a8\"],[0.3333333333333333,\"#9c179e\"],[0.4444444444444444,\"#bd3786\"],[0.5555555555555556,\"#d8576b\"],[0.6666666666666666,\"#ed7953\"],[0.7777777777777778,\"#fb9f3a\"],[0.8888888888888888,\"#fdca26\"],[1.0,\"#f0f921\"]],\"type\":\"histogram2d\"}],\"histogram2dcontour\":[{\"colorbar\":{\"outlinewidth\":0,\"ticks\":\"\"},\"colorscale\":[[0.0,\"#0d0887\"],[0.1111111111111111,\"#46039f\"],[0.2222222222222222,\"#7201a8\"],[0.3333333333333333,\"#9c179e\"],[0.4444444444444444,\"#bd3786\"],[0.5555555555555556,\"#d8576b\"],[0.6666666666666666,\"#ed7953\"],[0.7777777777777778,\"#fb9f3a\"],[0.8888888888888888,\"#fdca26\"],[1.0,\"#f0f921\"]],\"type\":\"histogram2dcontour\"}],\"mesh3d\":[{\"colorbar\":{\"outlinewidth\":0,\"ticks\":\"\"},\"type\":\"mesh3d\"}],\"parcoords\":[{\"line\":{\"colorbar\":{\"outlinewidth\":0,\"ticks\":\"\"}},\"type\":\"parcoords\"}],\"pie\":[{\"automargin\":true,\"type\":\"pie\"}],\"scatter\":[{\"marker\":{\"colorbar\":{\"outlinewidth\":0,\"ticks\":\"\"}},\"type\":\"scatter\"}],\"scatter3d\":[{\"line\":{\"colorbar\":{\"outlinewidth\":0,\"ticks\":\"\"}},\"marker\":{\"colorbar\":{\"outlinewidth\":0,\"ticks\":\"\"}},\"type\":\"scatter3d\"}],\"scattercarpet\":[{\"marker\":{\"colorbar\":{\"outlinewidth\":0,\"ticks\":\"\"}},\"type\":\"scattercarpet\"}],\"scattergeo\":[{\"marker\":{\"colorbar\":{\"outlinewidth\":0,\"ticks\":\"\"}},\"type\":\"scattergeo\"}],\"scattergl\":[{\"marker\":{\"colorbar\":{\"outlinewidth\":0,\"ticks\":\"\"}},\"type\":\"scattergl\"}],\"scattermapbox\":[{\"marker\":{\"colorbar\":{\"outlinewidth\":0,\"ticks\":\"\"}},\"type\":\"scattermapbox\"}],\"scatterpolar\":[{\"marker\":{\"colorbar\":{\"outlinewidth\":0,\"ticks\":\"\"}},\"type\":\"scatterpolar\"}],\"scatterpolargl\":[{\"marker\":{\"colorbar\":{\"outlinewidth\":0,\"ticks\":\"\"}},\"type\":\"scatterpolargl\"}],\"scatterternary\":[{\"marker\":{\"colorbar\":{\"outlinewidth\":0,\"ticks\":\"\"}},\"type\":\"scatterternary\"}],\"surface\":[{\"colorbar\":{\"outlinewidth\":0,\"ticks\":\"\"},\"colorscale\":[[0.0,\"#0d0887\"],[0.1111111111111111,\"#46039f\"],[0.2222222222222222,\"#7201a8\"],[0.3333333333333333,\"#9c179e\"],[0.4444444444444444,\"#bd3786\"],[0.5555555555555556,\"#d8576b\"],[0.6666666666666666,\"#ed7953\"],[0.7777777777777778,\"#fb9f3a\"],[0.8888888888888888,\"#fdca26\"],[1.0,\"#f0f921\"]],\"type\":\"surface\"}],\"table\":[{\"cells\":{\"fill\":{\"color\":\"#EBF0F8\"},\"line\":{\"color\":\"white\"}},\"header\":{\"fill\":{\"color\":\"#C8D4E3\"},\"line\":{\"color\":\"white\"}},\"type\":\"table\"}]},\"layout\":{\"annotationdefaults\":{\"arrowcolor\":\"#2a3f5f\",\"arrowhead\":0,\"arrowwidth\":1},\"autotypenumbers\":\"strict\",\"coloraxis\":{\"colorbar\":{\"outlinewidth\":0,\"ticks\":\"\"}},\"colorscale\":{\"diverging\":[[0,\"#8e0152\"],[0.1,\"#c51b7d\"],[0.2,\"#de77ae\"],[0.3,\"#f1b6da\"],[0.4,\"#fde0ef\"],[0.5,\"#f7f7f7\"],[0.6,\"#e6f5d0\"],[0.7,\"#b8e186\"],[0.8,\"#7fbc41\"],[0.9,\"#4d9221\"],[1,\"#276419\"]],\"sequential\":[[0.0,\"#0d0887\"],[0.1111111111111111,\"#46039f\"],[0.2222222222222222,\"#7201a8\"],[0.3333333333333333,\"#9c179e\"],[0.4444444444444444,\"#bd3786\"],[0.5555555555555556,\"#d8576b\"],[0.6666666666666666,\"#ed7953\"],[0.7777777777777778,\"#fb9f3a\"],[0.8888888888888888,\"#fdca26\"],[1.0,\"#f0f921\"]],\"sequentialminus\":[[0.0,\"#0d0887\"],[0.1111111111111111,\"#46039f\"],[0.2222222222222222,\"#7201a8\"],[0.3333333333333333,\"#9c179e\"],[0.4444444444444444,\"#bd3786\"],[0.5555555555555556,\"#d8576b\"],[0.6666666666666666,\"#ed7953\"],[0.7777777777777778,\"#fb9f3a\"],[0.8888888888888888,\"#fdca26\"],[1.0,\"#f0f921\"]]},\"colorway\":[\"#636efa\",\"#EF553B\",\"#00cc96\",\"#ab63fa\",\"#FFA15A\",\"#19d3f3\",\"#FF6692\",\"#B6E880\",\"#FF97FF\",\"#FECB52\"],\"font\":{\"color\":\"#2a3f5f\"},\"geo\":{\"bgcolor\":\"white\",\"lakecolor\":\"white\",\"landcolor\":\"#E5ECF6\",\"showlakes\":true,\"showland\":true,\"subunitcolor\":\"white\"},\"hoverlabel\":{\"align\":\"left\"},\"hovermode\":\"closest\",\"mapbox\":{\"style\":\"light\"},\"paper_bgcolor\":\"white\",\"plot_bgcolor\":\"#E5ECF6\",\"polar\":{\"angularaxis\":{\"gridcolor\":\"white\",\"linecolor\":\"white\",\"ticks\":\"\"},\"bgcolor\":\"#E5ECF6\",\"radialaxis\":{\"gridcolor\":\"white\",\"linecolor\":\"white\",\"ticks\":\"\"}},\"scene\":{\"xaxis\":{\"backgroundcolor\":\"#E5ECF6\",\"gridcolor\":\"white\",\"gridwidth\":2,\"linecolor\":\"white\",\"showbackground\":true,\"ticks\":\"\",\"zerolinecolor\":\"white\"},\"yaxis\":{\"backgroundcolor\":\"#E5ECF6\",\"gridcolor\":\"white\",\"gridwidth\":2,\"linecolor\":\"white\",\"showbackground\":true,\"ticks\":\"\",\"zerolinecolor\":\"white\"},\"zaxis\":{\"backgroundcolor\":\"#E5ECF6\",\"gridcolor\":\"white\",\"gridwidth\":2,\"linecolor\":\"white\",\"showbackground\":true,\"ticks\":\"\",\"zerolinecolor\":\"white\"}},\"shapedefaults\":{\"line\":{\"color\":\"#2a3f5f\"}},\"ternary\":{\"aaxis\":{\"gridcolor\":\"white\",\"linecolor\":\"white\",\"ticks\":\"\"},\"baxis\":{\"gridcolor\":\"white\",\"linecolor\":\"white\",\"ticks\":\"\"},\"bgcolor\":\"#E5ECF6\",\"caxis\":{\"gridcolor\":\"white\",\"linecolor\":\"white\",\"ticks\":\"\"}},\"title\":{\"x\":0.05},\"xaxis\":{\"automargin\":true,\"gridcolor\":\"white\",\"linecolor\":\"white\",\"ticks\":\"\",\"title\":{\"standoff\":15},\"zerolinecolor\":\"white\",\"zerolinewidth\":2},\"yaxis\":{\"automargin\":true,\"gridcolor\":\"white\",\"linecolor\":\"white\",\"ticks\":\"\",\"title\":{\"standoff\":15},\"zerolinecolor\":\"white\",\"zerolinewidth\":2}}},\"xaxis\":{\"showgrid\":true,\"gridwidth\":1,\"gridcolor\":\"lightgray\",\"title\":{\"text\":\"\\u0418\\u043d\\u0442\\u0435\\u0440\\u0432\\u0430\\u043b\\u044b \\u043c\\u0435\\u0436\\u0434\\u0443 \\u044d\\u0442\\u0430\\u043f\\u0430\\u043c\\u0438\",\"font\":{\"size\":10}},\"tickfont\":{\"size\":8}},\"yaxis\":{\"showgrid\":true,\"gridwidth\":1,\"gridcolor\":\"lightgray\",\"title\":{\"text\":\"\\u0427\\u0430\\u0441\\u044b\",\"font\":{\"size\":10}},\"tickfont\":{\"size\":8}},\"title\":{\"text\":\"\\u041f\\u0440\\u043e\\u0445\\u043e\\u0436\\u0434\\u0435\\u043d\\u0438\\u0435 \\u044d\\u0442\\u0430\\u043f\\u043e\\u0432 \\u0433\\u0440\\u0443\\u043f\\u043f\\u0430\\u043c\\u0438 \\u043f\\u043e\\u043b\\u044c\\u0437\\u043e\\u0432\\u0430\\u0442\\u0435\\u043b\\u0435\\u0439, \\u0447\\u0430\\u0441.\"},\"legend\":{\"x\":0,\"y\":1.0,\"bgcolor\":\"rgba(255, 255, 255, 0)\",\"bordercolor\":\"rgba(255, 255, 255, 0)\"},\"barmode\":\"group\"},                        {\"responsive\": true}                    ).then(function(){\n",
       "                            \n",
       "var gd = document.getElementById('dff6cd22-9ad1-4c11-b7bf-4fad03201715');\n",
       "var x = new MutationObserver(function (mutations, observer) {{\n",
       "        var display = window.getComputedStyle(gd).display;\n",
       "        if (!display || display === 'none') {{\n",
       "            console.log([gd, 'removed!']);\n",
       "            Plotly.purge(gd);\n",
       "            observer.disconnect();\n",
       "        }}\n",
       "}});\n",
       "\n",
       "// Listen for the removal of the full notebook cells\n",
       "var notebookContainer = gd.closest('#notebook-container');\n",
       "if (notebookContainer) {{\n",
       "    x.observe(notebookContainer, {childList: true});\n",
       "}}\n",
       "\n",
       "// Listen for the clearing of the current output cell\n",
       "var outputEl = gd.closest('.output');\n",
       "if (outputEl) {{\n",
       "    x.observe(outputEl, {childList: true});\n",
       "}}\n",
       "\n",
       "                        })                };                            </script>        </div>\n",
       "</body>\n",
       "</html>"
      ]
     },
     "metadata": {},
     "output_type": "display_data"
    }
   ],
   "source": [
    "fig = go.Figure(data=[\n",
    "    go.Bar(\n",
    "        name='Закончили обучение',\n",
    "        x=intervals_name,\n",
    "        y=for_finished_tutorial,\n",
    "        text=for_finished_tutorial,\n",
    "        textposition='auto',\n",
    "        ),\n",
    "    go.Bar(\n",
    "        name='Не проходили обучение',\n",
    "        x=intervals_name,\n",
    "        y=for_without_totorial,\n",
    "        text=for_without_totorial,\n",
    "        textposition='auto',\n",
    "        )\n",
    "])\n",
    "fig.update_xaxes(showgrid=True, gridwidth=1, gridcolor='lightgray',)\n",
    "fig.update_yaxes(showgrid=True, gridwidth=1, gridcolor='lightgray',)\n",
    "\n",
    "# Change the bar mode\n",
    "fig.update_layout(\n",
    "    barmode='group',\n",
    "#     margin = {\"l\": 100, \"r\": 100},\n",
    "    title_text='Прохождение этапов группами пользователей, час.',\n",
    "    xaxis=dict(\n",
    "        title='Интервалы между этапами',\n",
    "        titlefont_size=10,\n",
    "        tickfont_size=8,\n",
    "        ),\n",
    "    yaxis=dict(\n",
    "        title='Часы',\n",
    "        titlefont_size=10,\n",
    "        tickfont_size=8,\n",
    "        ),\n",
    "    legend=dict(\n",
    "        x=0,\n",
    "        y=1.0,\n",
    "        bgcolor='rgba(255, 255, 255, 0)',\n",
    "        bordercolor='rgba(255, 255, 255, 0)',\n",
    "        ),\n",
    ")\n",
    "fig.show()"
   ]
  },
  {
   "cell_type": "markdown",
   "metadata": {},
   "source": [
    "Посмотрим, сколько времени в среднем тратят пользователи, прошедшие обучение, на само обучение."
   ]
  },
  {
   "cell_type": "code",
   "execution_count": 19,
   "metadata": {},
   "outputs": [
    {
     "name": "stdout",
     "output_type": "stream",
     "text": [
      "Среднее время обучения:  0 days 00:12:13.823121951\n"
     ]
    }
   ],
   "source": [
    "tutorial_time = users_time_df['tutorial_finish'] - users_time_df['tutorial_start'] \n",
    "print(f'Среднее время обучения: ', tutorial_time.mean())"
   ]
  },
  {
   "cell_type": "markdown",
   "metadata": {},
   "source": [
    "Среднее время, потраченное на обучение (между первым tutorial_start и первым tutorial_finish) - 12 минут. Таким образом, само прохождение обучения практически не влияет на разницу в прохождении этапов для рассматриваемых групп пользователей."
   ]
  },
  {
   "cell_type": "markdown",
   "metadata": {},
   "source": [
    "### ШАГ 4. Анализ  зависимости между вероятностью оплаты и количеством обучений"
   ]
  },
  {
   "cell_type": "markdown",
   "metadata": {},
   "source": [
    "На этом шаге мы проверим, гипотезу, что успешное обучение само по себе влияет на оплату и не имеет значения то, каким этапом оно шло"
   ]
  },
  {
   "cell_type": "code",
   "execution_count": 20,
   "metadata": {},
   "outputs": [
    {
     "name": "stdout",
     "output_type": "stream",
     "text": [
      "   count  user_id\n",
      "0      1     9103\n",
      "1      2     1589\n",
      "2      3      427\n",
      "3      4      221\n",
      "4      5      109\n",
      "5      6      116\n",
      "6      7       94\n",
      "7      8       86\n",
      "8      9      113\n"
     ]
    }
   ],
   "source": [
    "# Создадим датафрейм с событием начала обучения\n",
    "start_tutorial_df = total_events_df[total_events_df['event_type'] == 'tutorial_start']\n",
    "# Посчитаем, сколько раз проходили обучение пользователи\n",
    "group_start = start_tutorial_df.groupby('user_id')['event_type'].agg(['count']).reset_index()\n",
    "# Посчитаем количество пользователей в зависимости от попыток обучения\n",
    "group_start_tut = group_start.groupby('count')['user_id'].count().reset_index()\n",
    "print(group_start_tut)\n",
    "# Объединим  датафрейм с событием начала обучения с датафреймом оплат\n",
    "purch_start_df = start_tutorial_df.merge(purchase, on = 'user_id', how = 'inner')"
   ]
  },
  {
   "cell_type": "code",
   "execution_count": 21,
   "metadata": {},
   "outputs": [
    {
     "name": "stdout",
     "output_type": "stream",
     "text": [
      "   count  user_id\n",
      "0      1     1207\n",
      "1      2      218\n",
      "2      3       51\n",
      "3      4       30\n",
      "4      5       16\n",
      "5      6       14\n",
      "6      7       12\n",
      "7      8       13\n",
      "8      9       17\n"
     ]
    }
   ],
   "source": [
    "# Посчитаем  покупателей в зависимости от количества обучений\n",
    "tutorial_tries = purch_start_df.groupby('user_id')['event_type_x'].agg(['count']).reset_index()\n",
    "group_tutorial_tries = tutorial_tries.groupby(['count'])['user_id'].count().reset_index()\n",
    "print(group_tutorial_tries)"
   ]
  },
  {
   "cell_type": "code",
   "execution_count": 22,
   "metadata": {},
   "outputs": [
    {
     "name": "stdout",
     "output_type": "stream",
     "text": [
      "Процент пользователей, оплативших тренировки и не проходивших обучение: 0.27 %\n"
     ]
    }
   ],
   "source": [
    "# Процент оплативших из непроходивших обучение\n",
    "purch_not_start_df = total_events_df[total_events_df['user_id'].isin(tutorial_not_started_users)].merge(purchase, on = 'user_id', how = 'inner')\n",
    "count_purch_not_start_tut = purch_not_start_df['user_id'].nunique()\n",
    "conversion_not_tutorial = count_purch_not_start_tut/len(tutorial_not_started_users)*100\n",
    "print(f'Процент пользователей, оплативших тренировки и не проходивших обучение: {round(conversion_not_tutorial, 2)} %')"
   ]
  },
  {
   "cell_type": "code",
   "execution_count": 23,
   "metadata": {},
   "outputs": [
    {
     "name": "stdout",
     "output_type": "stream",
     "text": [
      "1578\n"
     ]
    }
   ],
   "source": [
    "# Посчитаем количество покупателей, начавших обучение\n",
    "purchase_users_start_tutorial = purchase[purchase['user_id'].isin(tutorial_started_users)]\n",
    "count_purchase_users_start_tutorial = purchase_users_start_tutorial['user_id'].nunique()\n",
    "print(count_purchase_users_start_tutorial)"
   ]
  },
  {
   "cell_type": "code",
   "execution_count": 24,
   "metadata": {},
   "outputs": [],
   "source": [
    "# Процент покупателей, начавших обучение, в зависимости от количества начатых обучений, от общего количества покупателей,\n",
    "# начинавших обучение\n",
    "group_tutorial_tries['purch_tutorial_rate'] = group_tutorial_tries['user_id']/count_purchase_users_start_tutorial"
   ]
  },
  {
   "cell_type": "code",
   "execution_count": 25,
   "metadata": {},
   "outputs": [
    {
     "data": {
      "text/plain": [
       "<matplotlib.legend.Legend at 0x1ab47d98130>"
      ]
     },
     "execution_count": 25,
     "metadata": {},
     "output_type": "execute_result"
    },
    {
     "data": {
      "image/png": "[encoded data removed]",
      "text/plain": [
       "<Figure size 576x576 with 1 Axes>"
      ]
     },
     "metadata": {},
     "output_type": "display_data"
    }
   ],
   "source": [
    "fig = plt.figure(figsize=(8, 8))\n",
    "axes = fig.add_axes([0, 0, 1, 1])\n",
    "axes.pie(\n",
    "    group_tutorial_tries['purch_tutorial_rate'],\n",
    "    labels=group_tutorial_tries['count'],\n",
    "    autopct='%.1f%%',\n",
    "    explode = [0.1, 0, 0, 0, 0, 0, 0, 0, 0]\n",
    ");\n",
    "axes.set_title('В большинстве случаев покупка платных вопросов происходит после первого обучения', fontsize=16)\n",
    "axes.legend()"
   ]
  },
  {
   "cell_type": "code",
   "execution_count": 26,
   "metadata": {},
   "outputs": [
    {
     "name": "stdout",
     "output_type": "stream",
     "text": [
      "Процент пользователей, оплативших тренировки и прошедших обучение: 14.12 %\n"
     ]
    }
   ],
   "source": [
    "# Посчитаем количество покупателей, начавших обучение\n",
    "purchase_users_finish_tutorial = purchase[purchase['user_id'].isin(tutorial_finish_users)]\n",
    "count_purchase_users_finish_tutorial = purchase_users_finish_tutorial['user_id'].nunique()\n",
    "# Посмотрим, какая конверсия в покупку у пользователей, прошедших обучение\n",
    "conversion_finish_tutorial = count_purchase_users_finish_tutorial/len(tutorial_finish_users)*100\n",
    "print(f'Процент пользователей, оплативших тренировки и прошедших обучение: {round(conversion_finish_tutorial, 2)} %')"
   ]
  },
  {
   "cell_type": "code",
   "execution_count": 27,
   "metadata": {},
   "outputs": [
    {
     "name": "stdout",
     "output_type": "stream",
     "text": [
      "   count  count_users  count_clients  purch_tutorial_rate  conversion_%\n",
      "0      1         9103           1207             0.764892         13.26\n",
      "1      2         1589            218             0.138150         13.72\n",
      "2      3          427             51             0.032319         11.94\n",
      "3      4          221             30             0.019011         13.57\n",
      "4      5          109             16             0.010139         14.68\n",
      "5      6          116             14             0.008872         12.07\n",
      "6      7           94             12             0.007605         12.77\n",
      "7      8           86             13             0.008238         15.12\n",
      "8      9          113             17             0.010773         15.04\n"
     ]
    }
   ],
   "source": [
    "# Создадим общий датафрейм с количеством пользователей и покупателей в зависимости от количества начатых обучений \n",
    "merged_tutor_tries = group_start_tut.merge(group_tutorial_tries, on='count', how='inner')\n",
    "# Переименуем одинаковые столбцы, получившиеся в результате объединения\n",
    "merged_tutor_tries = merged_tutor_tries.rename(columns={'user_id_x': 'count_users', 'user_id_y': 'count_clients'})\n",
    "# Добавим столбец с конверсией покупателей\n",
    "merged_tutor_tries['conversion_%'] = round(merged_tutor_tries['count_clients']/merged_tutor_tries['count_users']*100, 2)\n",
    "print(merged_tutor_tries)"
   ]
  },
  {
   "cell_type": "code",
   "execution_count": 28,
   "metadata": {},
   "outputs": [
    {
     "data": {
      "image/png": "[encoded data removed]",
      "text/plain": [
       "<Figure size 720x432 with 1 Axes>"
      ]
     },
     "metadata": {
      "needs_background": "light"
     },
     "output_type": "display_data"
    }
   ],
   "source": [
    "labels = list(merged_tutor_tries['count'])\n",
    "x = np.arange(len(labels)) \n",
    "fig, ax = plt.subplots(figsize=(10, 6))\n",
    "rects = ax.bar(x, merged_tutor_tries['conversion_%'], width= 0.5)\n",
    "ax.set_xlabel('Количество обучений')\n",
    "ax.set_ylabel('Конверсия, %')\n",
    "ax.set_title('Вероятность покупки не зависит от количества прохождений обучения')\n",
    "ax.set_xticks(x, labels)\n",
    "ax.bar_label(rects, padding=3)\n",
    "fig.tight_layout()\n",
    "plt.show()"
   ]
  },
  {
   "cell_type": "markdown",
   "metadata": {},
   "source": [
    "Независимо от того, сколько раз пользователи начинали и заканчивали обучение, конверсия распределена достаточно равномерно. Конверсия для группы пользователей, не начинавших обучение,  низкая (0,27%), поэтому можно утверждать, что прохождение обучения само по себе оказывает сильное влияние на вероятность оплаты.\n"
   ]
  },
  {
   "cell_type": "markdown",
   "metadata": {},
   "source": [
    "### Шаг 5. Проверка, насколько часто пользователи начинают обучение после того, как они выбрали уровень сложности тренировок"
   ]
  },
  {
   "cell_type": "markdown",
   "metadata": {},
   "source": [
    "Объединим два вспомогательных фрейма  tutorial_start_df  и choice_level_df по пользователям и посмотрим на разницу во времени."
   ]
  },
  {
   "cell_type": "code",
   "execution_count": 29,
   "metadata": {},
   "outputs": [],
   "source": [
    "tutorial_start_df = events[events['event_type'] == 'tutorial_start']\n",
    "tutorial_start_df = tutorial_start_df[['user_id', 'start_time']].rename(columns={'start_time':'start_tutorial_time'})\n",
    "\n"
   ]
  },
  {
   "cell_type": "code",
   "execution_count": 30,
   "metadata": {},
   "outputs": [],
   "source": [
    "choice_level_df = events[events['event_type'] =='level_choice']\n",
    "choice_level_df = choice_level_df[['user_id', 'start_time']].rename(columns={'start_time': 'level_choice_time'})"
   ]
  },
  {
   "cell_type": "code",
   "execution_count": 31,
   "metadata": {},
   "outputs": [
    {
     "name": "stdout",
     "output_type": "stream",
     "text": [
      "   user_id start_tutorial_time   level_choice_time\n",
      "0    27835 2018-01-01 15:00:51 2018-01-01 20:37:22\n",
      "1    27839 2018-01-01 19:11:36 2018-01-01 22:37:50\n",
      "2    27840 2018-01-02 02:07:07 2018-01-02 05:18:42\n",
      "3    27845 2018-01-02 03:03:44 2018-01-02 06:19:18\n",
      "4    27845 2018-01-02 07:08:00 2018-01-02 06:19:18\n"
     ]
    }
   ],
   "source": [
    "merged_level_tutor = tutorial_start_df.merge(choice_level_df, how = 'inner', on = 'user_id')\n",
    "print(merged_level_tutor.head())"
   ]
  },
  {
   "cell_type": "code",
   "execution_count": 32,
   "metadata": {},
   "outputs": [
    {
     "name": "stdout",
     "output_type": "stream",
     "text": [
      "   user_id start_tutorial_time   level_choice_time        time_delta\n",
      "0    27835 2018-01-01 15:00:51 2018-01-01 20:37:22 -1 days +18:23:29\n",
      "1    27839 2018-01-01 19:11:36 2018-01-01 22:37:50 -1 days +20:33:46\n",
      "2    27840 2018-01-02 02:07:07 2018-01-02 05:18:42 -1 days +20:48:25\n",
      "3    27845 2018-01-02 03:03:44 2018-01-02 06:19:18 -1 days +20:44:26\n",
      "4    27845 2018-01-02 07:08:00 2018-01-02 06:19:18   0 days 00:48:42\n"
     ]
    }
   ],
   "source": [
    "merged_level_tutor['time_delta'] = merged_level_tutor['start_tutorial_time'] - merged_level_tutor['level_choice_time']\n",
    "print(merged_level_tutor.head())"
   ]
  },
  {
   "cell_type": "markdown",
   "metadata": {},
   "source": [
    "Cтроки с положительным time_delta - это и есть необходимые нам события обучения после выбора уровня сложности."
   ]
  },
  {
   "cell_type": "code",
   "execution_count": 33,
   "metadata": {},
   "outputs": [],
   "source": [
    "merged_level_tutor['time_delta'] = merged_level_tutor['time_delta']/pd.Timedelta('1 hour')\n",
    "users_after_level = merged_level_tutor[merged_level_tutor['time_delta'] > 0]['user_id'].nunique()\n"
   ]
  },
  {
   "cell_type": "code",
   "execution_count": 34,
   "metadata": {},
   "outputs": [],
   "source": [
    "count_users_choice_level_df = choice_level_df['user_id'].nunique()\n",
    "return_to_tutorial = round(users_after_level/count_users_choice_level_df*100, 2)"
   ]
  },
  {
   "cell_type": "code",
   "execution_count": 35,
   "metadata": {},
   "outputs": [
    {
     "name": "stdout",
     "output_type": "stream",
     "text": [
      "Количество пользователей, выбравших уровень сложности:                            8342\n",
      "Количество пользователей, вернувшиеся к обучению после выбора уровня сложности:   1386\n",
      "Процент вернувшихся к обучению пользователей:                                  16.61 %\n"
     ]
    }
   ],
   "source": [
    "print(f\"Количество пользователей, выбравших уровень сложности: {count_users_choice_level_df:>31}\")\n",
    "print(f\"Количество пользователей, вернувшиеся к обучению после выбора уровня сложности: {users_after_level:>6}\")\n",
    "print(f\"Процент вернувшихся к обучению пользователей: {return_to_tutorial:>38} %\")"
   ]
  },
  {
   "cell_type": "markdown",
   "metadata": {},
   "source": [
    "# ВЫВОДЫ\n",
    "## Задача 1: \n",
    "Среднее время между регистрацией и оплатой \n",
    "\n",
    "- Пользователи, окончившие обучение:                   4 days 00:30:03\n",
    "- Пользователи, начавшие, но не закончившие обучение:  4 days 05:32:53\n",
    "- Пользователи, не проходившие обучение:               4 days 09:06:02\n",
    "\n",
    "***************\n",
    "\n",
    "Среднее время между регистрацией и выбором уровня сложности\n",
    "\n",
    "- Пользователи, окончившие обучение:                   0 days 07:05:37\n",
    "- Пользователи, начавшие, но не закончившие обучение:  0 days 08:12:58\n",
    "- Пользователи, не проходившие обучение:               0 days 05:15:33\n",
    "\n",
    "****************\n",
    "\n",
    "Среднее время между выбором уровня сложности и выбором пакета вопросов \n",
    "\n",
    "- Пользователи, окончившие обучение:                   0 days 00:05:18\n",
    "- Пользователи, начавшие, но не закончившие обучение:  0 days 00:05:05\n",
    "- Пользователи, не проходившие обучение:               0 days 00:05:23\n",
    "\n",
    "****************\n",
    "\n",
    "Среднее время между выбором пакета вопросов и оплатой \n",
    "\n",
    "- Пользователи, окончившие обучение:                    3 days 17:17:60\n",
    "- Пользователи, начавшие, но не закончившие обучение:   3 days 21:14:47\n",
    "- Пользователи, не проходившие обучение:                4 days 04:49:34\n",
    "\n",
    "На само обучение в среднем пользователи тратят 12 минут.\n",
    "\n",
    "Итого разница во времени прохождения всех этапов пользователями, проходившими обучение, по сравнению с пользователями, не начинавшими обучение, меньше на 8 часов 36 минут (примерно 9 %). Только на первоначальном этапе (регистрация - выбор уровня сложности) обучавшиеся пользователи тратят больше времени на 1 час 50 мин. А после прохождения обучения начинают незначительно опережать не проходивших обучение пользователей. Само обучение составляет всего лишь 12 минут в среднем, поэтому не влияет на разницу прохождения этапов сравниваемых групп.\n",
    "Так как количество оплативших вопросы пользователей очень мало (всего 22 человека), то говорить однозначно, что время прохождения этапов зависит от факта прохождения обучения, нельзя.\n",
    "\n",
    "## Задача 2:\n",
    "Независимо от того, сколько раз пользователи начинали и заканчивали обучение, конверсия распределена достаточно равномерно. Конверсия для группы пользователей, не начинавших обучение,  низкая (0,27%), поэтому можно утверждать, что прохождение обучения оказывает сильное влияние на вероятность оплаты. Если сравнивать в зависимости от количества прохождения обучения, то самый высокий процент покупок (76,5 %) приходится на пользователей, проходивших обучение один раз, но это логично, так как данная группа самая многочисленная.\n",
    "\n",
    "## Задача 3:\n",
    "\n",
    "Всего пользователей, выбравших уровень сложности 8342. Количество пользователей, вернувшиеся к обучению после выбора уровня сложности 1386, что составляет 16.61 %. Это достаточно большое значение. И учитывая значительный отток пользователей, происходящий на каждом этапе (из 19926 зарегистрировавшихся человек до выбора уровня сложности доходят 8342, а до выбора вопросов 5737 человек), можно судить о том, что работа с приложением непонятна.\n",
    "Также можно предположить, что само обучение недостаточно понятное, если пользователи возвращаются к обучению (около 23 %), некоторые по несколько раз.\n"
   ]
  }
 ],
 "metadata": {
  "interpreter": {
   "hash": "4e052d4e0222e7fe77152d0a9dc2d2af05426cb5296a6b56fda7b6c53ad5778b"
  },
  "kernelspec": {
   "display_name": "Python 3.9.7 64-bit",
   "language": "python",
   "name": "python3"
  },
  "language_info": {
   "codemirror_mode": {
    "name": "ipython",
    "version": 3
   },
   "file_extension": ".py",
   "mimetype": "text/x-python",
   "name": "python",
   "nbconvert_exporter": "python",
   "pygments_lexer": "ipython3",
   "version": "3.9.7"
  },
  "orig_nbformat": 4
 },
 "nbformat": 4,
 "nbformat_minor": 2
}
